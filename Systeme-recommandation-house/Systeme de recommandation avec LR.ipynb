{
 "cells": [
  {
   "cell_type": "code",
   "execution_count": 29,
   "id": "f2039c1a-0604-4944-b1cb-cd871b2b5ecb",
   "metadata": {},
   "outputs": [],
   "source": [
    "import pandas as pd\n",
    "import numpy as np\n",
    "import matplotlib.pyplot as plt\n",
    "import seaborn as sns\n",
    "\n",
    "# Charger les données\n",
    "rent_df = pd.read_csv(\"House_Rent_Dataset.csv\")\n",
    "\n"
   ]
  },
  {
   "cell_type": "code",
   "execution_count": 30,
   "id": "6edeb88f-be1c-4054-827d-c46a88c6b741",
   "metadata": {},
   "outputs": [
    {
     "name": "stdout",
     "output_type": "stream",
     "text": [
      "       Posted On  BHK   Rent  Size            Floor    Area Type  \\\n",
      "2002  2022-06-20    2  12500   800       2 out of 3   Super Area   \n",
      "434   2022-06-03    2   8500   780  Ground out of 2  Carpet Area   \n",
      "626   2022-06-04    3  85000   850     25 out of 35  Carpet Area   \n",
      "2648  2022-05-05    2  10000    55       2 out of 4   Super Area   \n",
      "2343  2022-06-12    3  55000  1788  Ground out of 1  Carpet Area   \n",
      "\n",
      "                    Area Locality       City Furnishing Status  \\\n",
      "2002               Nagondanahalli  Bangalore         Furnished   \n",
      "434                  Airport Area    Kolkata       Unfurnished   \n",
      "626   Oberoi Woods, Goregaon East     Mumbai    Semi-Furnished   \n",
      "2648              Dwarka Sector 8      Delhi       Unfurnished   \n",
      "2343          Koramangala Block 4  Bangalore    Semi-Furnished   \n",
      "\n",
      "      Tenant Preferred  Bathroom Point of Contact  \n",
      "2002  Bachelors/Family         2    Contact Owner  \n",
      "434          Bachelors         1    Contact Owner  \n",
      "626             Family         3    Contact Agent  \n",
      "2648  Bachelors/Family         2    Contact Owner  \n",
      "2343            Family         3    Contact Agent  \n"
     ]
    }
   ],
   "source": [
    "# Afficher un échantillon des données\n",
    "print(rent_df.sample(5))"
   ]
  },
  {
   "cell_type": "code",
   "execution_count": 31,
   "id": "fa6f0d86-d777-4e11-aca2-42b092bddb0b",
   "metadata": {},
   "outputs": [
    {
     "name": "stdout",
     "output_type": "stream",
     "text": [
      "(4746, 12)\n"
     ]
    }
   ],
   "source": [
    "# Afficher la forme des données\n",
    "print(rent_df.shape)\n",
    "\n"
   ]
  },
  {
   "cell_type": "code",
   "execution_count": 32,
   "id": "b4e8697d-d5ec-42e1-985b-caec59ed3d9c",
   "metadata": {},
   "outputs": [
    {
     "name": "stdout",
     "output_type": "stream",
     "text": [
      "Index(['Posted On', 'BHK', 'Rent', 'Size', 'Floor', 'Area Type',\n",
      "       'Area Locality', 'City', 'Furnishing Status', 'Tenant Preferred',\n",
      "       'Bathroom', 'Point of Contact'],\n",
      "      dtype='object')\n"
     ]
    }
   ],
   "source": [
    "# Afficher les colonnes\n",
    "print(rent_df.columns)\n",
    "\n"
   ]
  },
  {
   "cell_type": "code",
   "execution_count": 33,
   "id": "8ba27cb8-3719-4260-8609-ebf1e6e5d5db",
   "metadata": {},
   "outputs": [
    {
     "name": "stdout",
     "output_type": "stream",
     "text": [
      "<class 'pandas.core.frame.DataFrame'>\n",
      "RangeIndex: 4746 entries, 0 to 4745\n",
      "Data columns (total 12 columns):\n",
      " #   Column             Non-Null Count  Dtype \n",
      "---  ------             --------------  ----- \n",
      " 0   Posted On          4746 non-null   object\n",
      " 1   BHK                4746 non-null   int64 \n",
      " 2   Rent               4746 non-null   int64 \n",
      " 3   Size               4746 non-null   int64 \n",
      " 4   Floor              4746 non-null   object\n",
      " 5   Area Type          4746 non-null   object\n",
      " 6   Area Locality      4746 non-null   object\n",
      " 7   City               4746 non-null   object\n",
      " 8   Furnishing Status  4746 non-null   object\n",
      " 9   Tenant Preferred   4746 non-null   object\n",
      " 10  Bathroom           4746 non-null   int64 \n",
      " 11  Point of Contact   4746 non-null   object\n",
      "dtypes: int64(4), object(8)\n",
      "memory usage: 445.1+ KB\n",
      "None\n"
     ]
    }
   ],
   "source": [
    "# Informations sur les données\n",
    "print(rent_df.info())\n",
    "\n"
   ]
  },
  {
   "cell_type": "code",
   "execution_count": 34,
   "id": "41eb09c8-2264-409c-accb-26f9da4bb013",
   "metadata": {},
   "outputs": [
    {
     "name": "stdout",
     "output_type": "stream",
     "text": [
      "0\n"
     ]
    }
   ],
   "source": [
    "# Vérifier les doublons\n",
    "print(rent_df.duplicated().sum())\n",
    "\n"
   ]
  },
  {
   "cell_type": "code",
   "execution_count": 35,
   "id": "04c5612d-9d9e-45b9-b02d-56f4f6405084",
   "metadata": {},
   "outputs": [
    {
     "name": "stdout",
     "output_type": "stream",
     "text": [
      "4076    1200\n",
      "285     1500\n",
      "471     1800\n",
      "2475    2000\n",
      "146     2200\n",
      "Name: Rent, dtype: int64\n"
     ]
    }
   ],
   "source": [
    "# Afficher les 5 premières valeurs de la colonne \"Rent\"\n",
    "print(rent_df[\"Rent\"].sort_values()[:5])"
   ]
  },
  {
   "cell_type": "code",
   "execution_count": 38,
   "id": "4e35edcc-46c0-4a51-a083-5d3acb8da3c4",
   "metadata": {},
   "outputs": [],
   "source": [
    "# Supprimer les doublons\n",
    "rent_df = rent_df.drop_duplicates()\n",
    "# Gérer les valeurs manquantes\n",
    "rent_df = rent_df.dropna()\n",
    "\n",
    "# Convertir les types de données si nécessaire\n",
    "rent_df[\"Rent\"] = rent_df[\"Rent\"].astype(float)\n",
    "rent_df[\"Size\"] = rent_df[\"Size\"].astype(float)\n",
    "\n",
    "# Encoder les variables catégorielles\n",
    "rent_df = pd.get_dummies(rent_df, columns=[\"City\", \"Furnishing Status\", \"Tenant Preferred\", \"Area Type\", \"Area Locality\"], drop_first=True)"
   ]
  },
  {
   "cell_type": "code",
   "execution_count": 39,
   "id": "004d88d8-a156-48ea-85bb-900ebbdc30c3",
   "metadata": {},
   "outputs": [
    {
     "data": {
      "image/png": "[encoded data removed]",
      "text/plain": [
       "<Figure size 640x480 with 1 Axes>"
      ]
     },
     "metadata": {},
     "output_type": "display_data"
    }
   ],
   "source": [
    "# Distribution des loyers\n",
    "sns.histplot(rent_df[\"Rent\"], bins=30, kde=True)\n",
    "plt.title(\"Distribution des Loyers\")\n",
    "plt.xlabel(\"Loyer\")\n",
    "plt.ylabel(\"Fréquence\")\n",
    "plt.show()\n"
   ]
  },
  {
   "cell_type": "code",
   "execution_count": 40,
   "id": "a04c4a0a-1a20-48a0-a50b-b8bc65daafe7",
   "metadata": {},
   "outputs": [
    {
     "data": {
      "image/png": "[encoded data removed]",
      "text/plain": [
       "<Figure size 640x480 with 1 Axes>"
      ]
     },
     "metadata": {},
     "output_type": "display_data"
    }
   ],
   "source": [
    "# Relation entre la taille et le loyer\n",
    "sns.scatterplot(x=\"Size\", y=\"Rent\", data=rent_df)\n",
    "plt.title(\"Relation entre la Taille et le Loyer\")\n",
    "plt.xlabel(\"Taille (pieds carrés)\")\n",
    "plt.ylabel(\"Loyer\")\n",
    "plt.show()"
   ]
  },
  {
   "cell_type": "code",
   "execution_count": 41,
   "id": "da0e1984-9c9e-44c5-81a8-89c474be33cc",
   "metadata": {},
   "outputs": [],
   "source": [
    "# Sélectionner les caractéristiques et la cible\n",
    "X = rent_df.drop(columns=[\"Rent\", \"Posted On\", \"Point of Contact\"])\n",
    "y = rent_df[\"Rent\"]\n"
   ]
  },
  {
   "cell_type": "code",
   "execution_count": 42,
   "id": "619f5622-1a24-45a2-aed0-84a84d442323",
   "metadata": {},
   "outputs": [
    {
     "name": "stdout",
     "output_type": "stream",
     "text": [
      "   BHK    Size            Floor  Bathroom  City_Chennai  City_Delhi  \\\n",
      "0    2  1100.0  Ground out of 2         2         False       False   \n",
      "1    2   800.0       1 out of 3         1         False       False   \n",
      "2    2  1000.0       1 out of 3         1         False       False   \n",
      "3    2   800.0       1 out of 2         1         False       False   \n",
      "4    2   850.0       1 out of 2         1         False       False   \n",
      "\n",
      "   City_Hyderabad  City_Kolkata  City_Mumbai  \\\n",
      "0           False          True        False   \n",
      "1           False          True        False   \n",
      "2           False          True        False   \n",
      "3           False          True        False   \n",
      "4           False          True        False   \n",
      "\n",
      "   Furnishing Status_Semi-Furnished  ...  Area Locality_sra  \\\n",
      "0                             False  ...              False   \n",
      "1                              True  ...              False   \n",
      "2                              True  ...              False   \n",
      "3                             False  ...              False   \n",
      "4                             False  ...              False   \n",
      "\n",
      "   Area Locality_sri sai arcade madinaguda  Area Locality_sspdl Mayfair  \\\n",
      "0                                    False                        False   \n",
      "1                                    False                        False   \n",
      "2                                    False                        False   \n",
      "3                                    False                        False   \n",
      "4                                    False                        False   \n",
      "\n",
      "   Area Locality_sunanda circal  Area Locality_tollygunge Kabardanga  \\\n",
      "0                         False                                False   \n",
      "1                         False                                False   \n",
      "2                         False                                False   \n",
      "3                         False                                False   \n",
      "4                         False                                False   \n",
      "\n",
      "   Area Locality_vanamali chs ghatla, Ghatla  Area Locality_venkatapuram  \\\n",
      "0                                      False                       False   \n",
      "1                                      False                       False   \n",
      "2                                      False                       False   \n",
      "3                                      False                       False   \n",
      "4                                      False                       False   \n",
      "\n",
      "   Area Locality_venkatesa perumal nagar  \\\n",
      "0                                  False   \n",
      "1                                  False   \n",
      "2                                  False   \n",
      "3                                  False   \n",
      "4                                  False   \n",
      "\n",
      "   Area Locality_villvam towers tnhb colony  Area Locality_whitefield  \n",
      "0                                     False                     False  \n",
      "1                                     False                     False  \n",
      "2                                     False                     False  \n",
      "3                                     False                     False  \n",
      "4                                     False                     False  \n",
      "\n",
      "[5 rows x 2249 columns]\n"
     ]
    }
   ],
   "source": [
    "print(X.head())  # Affiche les premières lignes de X"
   ]
  },
  {
   "cell_type": "code",
   "execution_count": 43,
   "id": "42f86a09-a396-43cd-b9e7-de6a75233a79",
   "metadata": {},
   "outputs": [
    {
     "name": "stdout",
     "output_type": "stream",
     "text": [
      "0    10000.0\n",
      "1    20000.0\n",
      "2    17000.0\n",
      "3    10000.0\n",
      "4     7500.0\n",
      "Name: Rent, dtype: float64\n"
     ]
    }
   ],
   "source": [
    "print(y.head())  # Affiche les premières lignes de y"
   ]
  },
  {
   "cell_type": "code",
   "execution_count": 16,
   "id": "8350454a-6dff-408e-987d-4de6a82abb75",
   "metadata": {},
   "outputs": [],
   "source": [
    "import numpy as np\n",
    "\n",
    "def process_floor(floor):\n",
    "    if \"out of\" in floor:\n",
    "        parts = floor.split(\" out of \")\n",
    "        try:\n",
    "            floor_number = float(parts[0]) if parts[0] != \"Ground\" else 0\n",
    "            total_floors = float(parts[1])\n",
    "        except ValueError:\n",
    "            floor_number = np.nan\n",
    "            total_floors = np.nan\n",
    "        return floor_number, total_floors\n",
    "    return np.nan, np.nan\n",
    "\n",
    "# Appliquer la fonction à la colonne Floor\n",
    "rent_df[['FloorNumber', 'TotalFloors']] = rent_df['Floor'].apply(lambda x: pd.Series(process_floor(x)))\n",
    "\n",
    "# Supprimer la colonne originale Floor si elle n'est plus nécessaire\n",
    "rent_df= rent_df.drop(columns=['Floor'])"
   ]
  },
  {
   "cell_type": "code",
   "execution_count": 18,
   "id": "d20a8ea4-4d0f-412c-ad15-a5df7240e46a",
   "metadata": {},
   "outputs": [
    {
     "name": "stdout",
     "output_type": "stream",
     "text": [
      "   FloorNumber  TotalFloors\n",
      "0          0.0          2.0\n",
      "1          1.0          3.0\n",
      "2          1.0          3.0\n",
      "3          1.0          2.0\n",
      "4          1.0          2.0\n"
     ]
    }
   ],
   "source": [
    "print(rent_df[['FloorNumber', 'TotalFloors']].head())\n"
   ]
  },
  {
   "cell_type": "code",
   "execution_count": 21,
   "id": "1fbbbb04-00f2-4223-91bf-50e22d0a5f9b",
   "metadata": {},
   "outputs": [
    {
     "name": "stderr",
     "output_type": "stream",
     "text": [
      "C:\\Users\\yssin\\AppData\\Local\\Temp\\ipykernel_7576\\4184654799.py:1: FutureWarning: A value is trying to be set on a copy of a DataFrame or Series through chained assignment using an inplace method.\n",
      "The behavior will change in pandas 3.0. This inplace method will never work because the intermediate object on which we are setting values always behaves as a copy.\n",
      "\n",
      "For example, when doing 'df[col].method(value, inplace=True)', try using 'df.method({col: value}, inplace=True)' or df[col] = df[col].method(value) instead, to perform the operation inplace on the original object.\n",
      "\n",
      "\n",
      "  rent_df['FloorNumber'].fillna(0, inplace=True)\n",
      "C:\\Users\\yssin\\AppData\\Local\\Temp\\ipykernel_7576\\4184654799.py:2: FutureWarning: A value is trying to be set on a copy of a DataFrame or Series through chained assignment using an inplace method.\n",
      "The behavior will change in pandas 3.0. This inplace method will never work because the intermediate object on which we are setting values always behaves as a copy.\n",
      "\n",
      "For example, when doing 'df[col].method(value, inplace=True)', try using 'df.method({col: value}, inplace=True)' or df[col] = df[col].method(value) instead, to perform the operation inplace on the original object.\n",
      "\n",
      "\n",
      "  rent_df['TotalFloors'].fillna(rent_df['TotalFloors'].mean(), inplace=True)\n"
     ]
    }
   ],
   "source": [
    "rent_df['FloorNumber'].fillna(0, inplace=True)\n",
    "rent_df['TotalFloors'].fillna(rent_df['TotalFloors'].mean(), inplace=True)\n"
   ]
  },
  {
   "cell_type": "code",
   "execution_count": 22,
   "id": "9acd2ae0-4e0b-47ef-b05e-26f08463560c",
   "metadata": {},
   "outputs": [],
   "source": [
    "rent_df.dropna(subset=['FloorNumber', 'TotalFloors'], inplace=True)\n"
   ]
  },
  {
   "cell_type": "code",
   "execution_count": 24,
   "id": "ca1e9f79-26e9-4347-a320-4aedc848b395",
   "metadata": {
    "scrolled": true
   },
   "outputs": [
    {
     "name": "stdout",
     "output_type": "stream",
     "text": [
      "Mean Squared Error: 2254306780.0506444\n",
      "R² Score: 0.4343560626591152\n"
     ]
    }
   ],
   "source": [
    "X = rent_df[['BHK', 'Size', 'Bathroom', 'FloorNumber', 'TotalFloors', 'City_Chennai', 'City_Delhi']]  # Ajouter les colonnes nécessaires\n",
    "y = rent_df['Rent']\n",
    "\n",
    "# Diviser les données et entraîner le modèle\n",
    "X_train, X_test, y_train, y_test = train_test_split(X, y, test_size=0.2, random_state=42)\n",
    "\n",
    "model = LinearRegression()\n",
    "model.fit(X_train, y_train)\n",
    "\n",
    "y_pred = model.predict(X_test)\n",
    "\n",
    "mse = mean_squared_error(y_test, y_pred)\n",
    "r2 = r2_score(y_test, y_pred)\n",
    "\n",
    "print(f\"Mean Squared Error: {mse}\")\n",
    "print(f\"R² Score: {r2}\")\n"
   ]
  },
  {
   "cell_type": "code",
   "execution_count": 25,
   "id": "1578f39b-c7ff-4835-9aaf-42f8ecd0d9db",
   "metadata": {},
   "outputs": [
    {
     "name": "stdout",
     "output_type": "stream",
     "text": [
      "Mean Squared Error: 2227245922.987398\n",
      "R² Score: 0.44114609224715984\n"
     ]
    }
   ],
   "source": [
    "from sklearn.ensemble import RandomForestRegressor\n",
    "from sklearn.model_selection import train_test_split\n",
    "from sklearn.metrics import mean_squared_error, r2_score\n",
    "\n",
    "# Diviser les données\n",
    "X_train, X_test, y_train, y_test = train_test_split(X, y, test_size=0.2, random_state=42)\n",
    "\n",
    "# Initialiser et entraîner un modèle Random Forest\n",
    "rf_model = RandomForestRegressor(n_estimators=100, random_state=42)\n",
    "rf_model.fit(X_train, y_train)\n",
    "\n",
    "# Faire des prédictions\n",
    "y_pred = rf_model.predict(X_test)\n",
    "\n",
    "# Évaluer le modèle\n",
    "mse = mean_squared_error(y_test, y_pred)\n",
    "r2 = r2_score(y_test, y_pred)\n",
    "\n",
    "print(f\"Mean Squared Error: {mse}\")\n",
    "print(f\"R² Score: {r2}\")\n"
   ]
  },
  {
   "cell_type": "code",
   "execution_count": 27,
   "id": "3a5f5838-8c52-4972-ad9a-079b4d33d44b",
   "metadata": {},
   "outputs": [
    {
     "ename": "KeyError",
     "evalue": "'Floor'",
     "output_type": "error",
     "traceback": [
      "\u001b[1;31m---------------------------------------------------------------------------\u001b[0m",
      "\u001b[1;31mKeyError\u001b[0m                                  Traceback (most recent call last)",
      "File \u001b[1;32m~\\AppData\\Local\\Programs\\Python\\Python312\\Lib\\site-packages\\pandas\\core\\indexes\\base.py:3805\u001b[0m, in \u001b[0;36mIndex.get_loc\u001b[1;34m(self, key)\u001b[0m\n\u001b[0;32m   3804\u001b[0m \u001b[38;5;28;01mtry\u001b[39;00m:\n\u001b[1;32m-> 3805\u001b[0m     \u001b[38;5;28;01mreturn\u001b[39;00m \u001b[38;5;28;43mself\u001b[39;49m\u001b[38;5;241;43m.\u001b[39;49m\u001b[43m_engine\u001b[49m\u001b[38;5;241;43m.\u001b[39;49m\u001b[43mget_loc\u001b[49m\u001b[43m(\u001b[49m\u001b[43mcasted_key\u001b[49m\u001b[43m)\u001b[49m\n\u001b[0;32m   3806\u001b[0m \u001b[38;5;28;01mexcept\u001b[39;00m \u001b[38;5;167;01mKeyError\u001b[39;00m \u001b[38;5;28;01mas\u001b[39;00m err:\n",
      "File \u001b[1;32mindex.pyx:167\u001b[0m, in \u001b[0;36mpandas._libs.index.IndexEngine.get_loc\u001b[1;34m()\u001b[0m\n",
      "File \u001b[1;32mindex.pyx:196\u001b[0m, in \u001b[0;36mpandas._libs.index.IndexEngine.get_loc\u001b[1;34m()\u001b[0m\n",
      "File \u001b[1;32mpandas\\\\_libs\\\\hashtable_class_helper.pxi:7081\u001b[0m, in \u001b[0;36mpandas._libs.hashtable.PyObjectHashTable.get_item\u001b[1;34m()\u001b[0m\n",
      "File \u001b[1;32mpandas\\\\_libs\\\\hashtable_class_helper.pxi:7089\u001b[0m, in \u001b[0;36mpandas._libs.hashtable.PyObjectHashTable.get_item\u001b[1;34m()\u001b[0m\n",
      "\u001b[1;31mKeyError\u001b[0m: 'Floor'",
      "\nThe above exception was the direct cause of the following exception:\n",
      "\u001b[1;31mKeyError\u001b[0m                                  Traceback (most recent call last)",
      "Cell \u001b[1;32mIn[27], line 1\u001b[0m\n\u001b[1;32m----> 1\u001b[0m rent_df[\u001b[38;5;124m'\u001b[39m\u001b[38;5;124mFloorNumber\u001b[39m\u001b[38;5;124m'\u001b[39m] \u001b[38;5;241m=\u001b[39m \u001b[43mrent_df\u001b[49m\u001b[43m[\u001b[49m\u001b[38;5;124;43m'\u001b[39;49m\u001b[38;5;124;43mFloor\u001b[39;49m\u001b[38;5;124;43m'\u001b[39;49m\u001b[43m]\u001b[49m\u001b[38;5;241m.\u001b[39mstr\u001b[38;5;241m.\u001b[39msplit(\u001b[38;5;124m'\u001b[39m\u001b[38;5;124m \u001b[39m\u001b[38;5;124m'\u001b[39m)\u001b[38;5;241m.\u001b[39mstr[\u001b[38;5;241m0\u001b[39m]\u001b[38;5;241m.\u001b[39mreplace(\u001b[38;5;124m'\u001b[39m\u001b[38;5;124mGround\u001b[39m\u001b[38;5;124m'\u001b[39m, \u001b[38;5;241m0\u001b[39m)\u001b[38;5;241m.\u001b[39mastype(\u001b[38;5;28mint\u001b[39m)\n\u001b[0;32m      2\u001b[0m rent_df[\u001b[38;5;124m'\u001b[39m\u001b[38;5;124mTotalFloors\u001b[39m\u001b[38;5;124m'\u001b[39m] \u001b[38;5;241m=\u001b[39m rent_df[\u001b[38;5;124m'\u001b[39m\u001b[38;5;124mFloor\u001b[39m\u001b[38;5;124m'\u001b[39m]\u001b[38;5;241m.\u001b[39mstr\u001b[38;5;241m.\u001b[39msplit(\u001b[38;5;124m'\u001b[39m\u001b[38;5;124m \u001b[39m\u001b[38;5;124m'\u001b[39m)\u001b[38;5;241m.\u001b[39mstr[\u001b[38;5;241m-\u001b[39m\u001b[38;5;241m1\u001b[39m]\u001b[38;5;241m.\u001b[39mastype(\u001b[38;5;28mint\u001b[39m)\n",
      "File \u001b[1;32m~\\AppData\\Local\\Programs\\Python\\Python312\\Lib\\site-packages\\pandas\\core\\frame.py:4102\u001b[0m, in \u001b[0;36mDataFrame.__getitem__\u001b[1;34m(self, key)\u001b[0m\n\u001b[0;32m   4100\u001b[0m \u001b[38;5;28;01mif\u001b[39;00m \u001b[38;5;28mself\u001b[39m\u001b[38;5;241m.\u001b[39mcolumns\u001b[38;5;241m.\u001b[39mnlevels \u001b[38;5;241m>\u001b[39m \u001b[38;5;241m1\u001b[39m:\n\u001b[0;32m   4101\u001b[0m     \u001b[38;5;28;01mreturn\u001b[39;00m \u001b[38;5;28mself\u001b[39m\u001b[38;5;241m.\u001b[39m_getitem_multilevel(key)\n\u001b[1;32m-> 4102\u001b[0m indexer \u001b[38;5;241m=\u001b[39m \u001b[38;5;28;43mself\u001b[39;49m\u001b[38;5;241;43m.\u001b[39;49m\u001b[43mcolumns\u001b[49m\u001b[38;5;241;43m.\u001b[39;49m\u001b[43mget_loc\u001b[49m\u001b[43m(\u001b[49m\u001b[43mkey\u001b[49m\u001b[43m)\u001b[49m\n\u001b[0;32m   4103\u001b[0m \u001b[38;5;28;01mif\u001b[39;00m is_integer(indexer):\n\u001b[0;32m   4104\u001b[0m     indexer \u001b[38;5;241m=\u001b[39m [indexer]\n",
      "File \u001b[1;32m~\\AppData\\Local\\Programs\\Python\\Python312\\Lib\\site-packages\\pandas\\core\\indexes\\base.py:3812\u001b[0m, in \u001b[0;36mIndex.get_loc\u001b[1;34m(self, key)\u001b[0m\n\u001b[0;32m   3807\u001b[0m     \u001b[38;5;28;01mif\u001b[39;00m \u001b[38;5;28misinstance\u001b[39m(casted_key, \u001b[38;5;28mslice\u001b[39m) \u001b[38;5;129;01mor\u001b[39;00m (\n\u001b[0;32m   3808\u001b[0m         \u001b[38;5;28misinstance\u001b[39m(casted_key, abc\u001b[38;5;241m.\u001b[39mIterable)\n\u001b[0;32m   3809\u001b[0m         \u001b[38;5;129;01mand\u001b[39;00m \u001b[38;5;28many\u001b[39m(\u001b[38;5;28misinstance\u001b[39m(x, \u001b[38;5;28mslice\u001b[39m) \u001b[38;5;28;01mfor\u001b[39;00m x \u001b[38;5;129;01min\u001b[39;00m casted_key)\n\u001b[0;32m   3810\u001b[0m     ):\n\u001b[0;32m   3811\u001b[0m         \u001b[38;5;28;01mraise\u001b[39;00m InvalidIndexError(key)\n\u001b[1;32m-> 3812\u001b[0m     \u001b[38;5;28;01mraise\u001b[39;00m \u001b[38;5;167;01mKeyError\u001b[39;00m(key) \u001b[38;5;28;01mfrom\u001b[39;00m \u001b[38;5;21;01merr\u001b[39;00m\n\u001b[0;32m   3813\u001b[0m \u001b[38;5;28;01mexcept\u001b[39;00m \u001b[38;5;167;01mTypeError\u001b[39;00m:\n\u001b[0;32m   3814\u001b[0m     \u001b[38;5;66;03m# If we have a listlike key, _check_indexing_error will raise\u001b[39;00m\n\u001b[0;32m   3815\u001b[0m     \u001b[38;5;66;03m#  InvalidIndexError. Otherwise we fall through and re-raise\u001b[39;00m\n\u001b[0;32m   3816\u001b[0m     \u001b[38;5;66;03m#  the TypeError.\u001b[39;00m\n\u001b[0;32m   3817\u001b[0m     \u001b[38;5;28mself\u001b[39m\u001b[38;5;241m.\u001b[39m_check_indexing_error(key)\n",
      "\u001b[1;31mKeyError\u001b[0m: 'Floor'"
     ]
    }
   ],
   "source": [
    "rent_df['FloorNumber'] = rent_df['Floor'].str.split(' ').str[0].replace('Ground', 0).astype(int)\n",
    "rent_df['TotalFloors'] = rent_df['Floor'].str.split(' ').str[-1].astype(int)"
   ]
  },
  {
   "cell_type": "code",
   "execution_count": null,
   "id": "e38269d4-cd4c-4330-9a52-13a81157217a",
   "metadata": {},
   "outputs": [],
   "source": []
  }
 ],
 "metadata": {
  "kernelspec": {
   "display_name": "Python 3 (ipykernel)",
   "language": "python",
   "name": "python3"
  },
  "language_info": {
   "codemirror_mode": {
    "name": "ipython",
    "version": 3
   },
   "file_extension": ".py",
   "mimetype": "text/x-python",
   "name": "python",
   "nbconvert_exporter": "python",
   "pygments_lexer": "ipython3",
   "version": "3.12.3"
  }
 },
 "nbformat": 4,
 "nbformat_minor": 5
}
